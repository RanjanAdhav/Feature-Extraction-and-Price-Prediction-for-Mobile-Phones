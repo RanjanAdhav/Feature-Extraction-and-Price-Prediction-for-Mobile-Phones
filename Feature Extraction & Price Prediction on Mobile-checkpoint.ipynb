{
 "cells": [
  {
   "cell_type": "code",
   "execution_count": 1,
   "id": "001c29a1",
   "metadata": {},
   "outputs": [],
   "source": [
    "import pandas as pd\n",
    "import numpy as np\n",
    "import matplotlib.pyplot as plt\n",
    "import seaborn as sns\n",
    "import warnings\n",
    "warnings.filterwarnings('ignore')"
   ]
  },
  {
   "cell_type": "code",
   "execution_count": 2,
   "id": "bc6f1d9b",
   "metadata": {},
   "outputs": [],
   "source": [
    "data=pd.read_excel('Processed_Flipdata.xlsx')"
   ]
  },
  {
   "cell_type": "code",
   "execution_count": 3,
   "id": "7505caa9",
   "metadata": {},
   "outputs": [
    {
     "data": {
      "text/html": [
       "<div>\n",
       "<style scoped>\n",
       "    .dataframe tbody tr th:only-of-type {\n",
       "        vertical-align: middle;\n",
       "    }\n",
       "\n",
       "    .dataframe tbody tr th {\n",
       "        vertical-align: top;\n",
       "    }\n",
       "\n",
       "    .dataframe thead th {\n",
       "        text-align: right;\n",
       "    }\n",
       "</style>\n",
       "<table border=\"1\" class=\"dataframe\">\n",
       "  <thead>\n",
       "    <tr style=\"text-align: right;\">\n",
       "      <th></th>\n",
       "      <th>Unnamed: 0</th>\n",
       "      <th>Model</th>\n",
       "      <th>Colour</th>\n",
       "      <th>Memory</th>\n",
       "      <th>RAM</th>\n",
       "      <th>Battery_</th>\n",
       "      <th>Rear Camera</th>\n",
       "      <th>Front Camera</th>\n",
       "      <th>AI Lens</th>\n",
       "      <th>Mobile Height</th>\n",
       "      <th>Processor_</th>\n",
       "      <th>Prize</th>\n",
       "    </tr>\n",
       "  </thead>\n",
       "  <tbody>\n",
       "    <tr>\n",
       "      <th>0</th>\n",
       "      <td>0</td>\n",
       "      <td>Infinix SMART 7</td>\n",
       "      <td>Night Black</td>\n",
       "      <td>64</td>\n",
       "      <td>4</td>\n",
       "      <td>6000</td>\n",
       "      <td>13MP</td>\n",
       "      <td>5MP</td>\n",
       "      <td>1</td>\n",
       "      <td>16.76</td>\n",
       "      <td>Unisoc Spreadtrum SC9863A1</td>\n",
       "      <td>7299</td>\n",
       "    </tr>\n",
       "    <tr>\n",
       "      <th>1</th>\n",
       "      <td>1</td>\n",
       "      <td>Infinix SMART 7</td>\n",
       "      <td>Azure Blue</td>\n",
       "      <td>64</td>\n",
       "      <td>4</td>\n",
       "      <td>6000</td>\n",
       "      <td>13MP</td>\n",
       "      <td>5MP</td>\n",
       "      <td>1</td>\n",
       "      <td>16.76</td>\n",
       "      <td>Unisoc Spreadtrum SC9863A1</td>\n",
       "      <td>7299</td>\n",
       "    </tr>\n",
       "    <tr>\n",
       "      <th>2</th>\n",
       "      <td>2</td>\n",
       "      <td>MOTOROLA G32</td>\n",
       "      <td>Mineral Gray</td>\n",
       "      <td>128</td>\n",
       "      <td>8</td>\n",
       "      <td>5000</td>\n",
       "      <td>50MP</td>\n",
       "      <td>16MP</td>\n",
       "      <td>0</td>\n",
       "      <td>16.64</td>\n",
       "      <td>Qualcomm Snapdragon 680</td>\n",
       "      <td>11999</td>\n",
       "    </tr>\n",
       "    <tr>\n",
       "      <th>3</th>\n",
       "      <td>3</td>\n",
       "      <td>POCO C50</td>\n",
       "      <td>Royal Blue</td>\n",
       "      <td>32</td>\n",
       "      <td>2</td>\n",
       "      <td>5000</td>\n",
       "      <td>8MP</td>\n",
       "      <td>5MP</td>\n",
       "      <td>0</td>\n",
       "      <td>16.56</td>\n",
       "      <td>Mediatek Helio A22</td>\n",
       "      <td>5649</td>\n",
       "    </tr>\n",
       "    <tr>\n",
       "      <th>4</th>\n",
       "      <td>4</td>\n",
       "      <td>Infinix HOT 30i</td>\n",
       "      <td>Marigold</td>\n",
       "      <td>128</td>\n",
       "      <td>8</td>\n",
       "      <td>5000</td>\n",
       "      <td>50MP</td>\n",
       "      <td>5MP</td>\n",
       "      <td>1</td>\n",
       "      <td>16.76</td>\n",
       "      <td>G37</td>\n",
       "      <td>8999</td>\n",
       "    </tr>\n",
       "  </tbody>\n",
       "</table>\n",
       "</div>"
      ],
      "text/plain": [
       "   Unnamed: 0            Model        Colour  Memory  RAM  Battery_  \\\n",
       "0           0  Infinix SMART 7   Night Black      64    4      6000   \n",
       "1           1  Infinix SMART 7    Azure Blue      64    4      6000   \n",
       "2           2     MOTOROLA G32  Mineral Gray     128    8      5000   \n",
       "3           3         POCO C50    Royal Blue      32    2      5000   \n",
       "4           4  Infinix HOT 30i      Marigold     128    8      5000   \n",
       "\n",
       "  Rear Camera Front Camera  AI Lens  Mobile Height  \\\n",
       "0        13MP          5MP        1          16.76   \n",
       "1        13MP          5MP        1          16.76   \n",
       "2        50MP         16MP        0          16.64   \n",
       "3         8MP          5MP        0          16.56   \n",
       "4        50MP          5MP        1          16.76   \n",
       "\n",
       "                   Processor_  Prize  \n",
       "0  Unisoc Spreadtrum SC9863A1   7299  \n",
       "1  Unisoc Spreadtrum SC9863A1   7299  \n",
       "2     Qualcomm Snapdragon 680  11999  \n",
       "3          Mediatek Helio A22   5649  \n",
       "4                         G37   8999  "
      ]
     },
     "execution_count": 3,
     "metadata": {},
     "output_type": "execute_result"
    }
   ],
   "source": [
    "data.head() #First Five Rows"
   ]
  },
  {
   "cell_type": "code",
   "execution_count": 4,
   "id": "b91e98ac",
   "metadata": {},
   "outputs": [
    {
     "data": {
      "text/html": [
       "<div>\n",
       "<style scoped>\n",
       "    .dataframe tbody tr th:only-of-type {\n",
       "        vertical-align: middle;\n",
       "    }\n",
       "\n",
       "    .dataframe tbody tr th {\n",
       "        vertical-align: top;\n",
       "    }\n",
       "\n",
       "    .dataframe thead th {\n",
       "        text-align: right;\n",
       "    }\n",
       "</style>\n",
       "<table border=\"1\" class=\"dataframe\">\n",
       "  <thead>\n",
       "    <tr style=\"text-align: right;\">\n",
       "      <th></th>\n",
       "      <th>Unnamed: 0</th>\n",
       "      <th>Model</th>\n",
       "      <th>Colour</th>\n",
       "      <th>Memory</th>\n",
       "      <th>RAM</th>\n",
       "      <th>Battery_</th>\n",
       "      <th>Rear Camera</th>\n",
       "      <th>Front Camera</th>\n",
       "      <th>AI Lens</th>\n",
       "      <th>Mobile Height</th>\n",
       "      <th>Processor_</th>\n",
       "      <th>Prize</th>\n",
       "    </tr>\n",
       "  </thead>\n",
       "  <tbody>\n",
       "    <tr>\n",
       "      <th>536</th>\n",
       "      <td>637</td>\n",
       "      <td>SAMSUNG Galaxy S23 5G</td>\n",
       "      <td>Cream</td>\n",
       "      <td>256</td>\n",
       "      <td>8</td>\n",
       "      <td>3900</td>\n",
       "      <td>50MP</td>\n",
       "      <td>12MP</td>\n",
       "      <td>0</td>\n",
       "      <td>15.49</td>\n",
       "      <td>Qualcomm Snapdragon 8 Gen 2</td>\n",
       "      <td>79999</td>\n",
       "    </tr>\n",
       "    <tr>\n",
       "      <th>537</th>\n",
       "      <td>638</td>\n",
       "      <td>LAVA Z21</td>\n",
       "      <td>Cyan</td>\n",
       "      <td>32</td>\n",
       "      <td>2</td>\n",
       "      <td>3100</td>\n",
       "      <td>5MP</td>\n",
       "      <td>2MP</td>\n",
       "      <td>0</td>\n",
       "      <td>12.70</td>\n",
       "      <td>Octa Core</td>\n",
       "      <td>5998</td>\n",
       "    </tr>\n",
       "    <tr>\n",
       "      <th>538</th>\n",
       "      <td>639</td>\n",
       "      <td>Tecno Spark 8T</td>\n",
       "      <td>Turquoise Cyan</td>\n",
       "      <td>64</td>\n",
       "      <td>4</td>\n",
       "      <td>5000</td>\n",
       "      <td>50MP</td>\n",
       "      <td>8MP</td>\n",
       "      <td>0</td>\n",
       "      <td>16.76</td>\n",
       "      <td>MediaTek Helio G35</td>\n",
       "      <td>9990</td>\n",
       "    </tr>\n",
       "    <tr>\n",
       "      <th>539</th>\n",
       "      <td>641</td>\n",
       "      <td>SAMSUNG Galaxy A54 5G</td>\n",
       "      <td>Awesome Lime</td>\n",
       "      <td>128</td>\n",
       "      <td>8</td>\n",
       "      <td>5000</td>\n",
       "      <td>50MP</td>\n",
       "      <td>32MP</td>\n",
       "      <td>0</td>\n",
       "      <td>16.26</td>\n",
       "      <td>Exynos 1380, Octa Core</td>\n",
       "      <td>38999</td>\n",
       "    </tr>\n",
       "    <tr>\n",
       "      <th>540</th>\n",
       "      <td>642</td>\n",
       "      <td>OPPO A77</td>\n",
       "      <td>Sky Blue</td>\n",
       "      <td>128</td>\n",
       "      <td>4</td>\n",
       "      <td>5000</td>\n",
       "      <td>50MP</td>\n",
       "      <td>8MP</td>\n",
       "      <td>0</td>\n",
       "      <td>16.66</td>\n",
       "      <td>Mediatek Helio G35</td>\n",
       "      <td>15999</td>\n",
       "    </tr>\n",
       "  </tbody>\n",
       "</table>\n",
       "</div>"
      ],
      "text/plain": [
       "     Unnamed: 0                  Model          Colour  Memory  RAM  Battery_  \\\n",
       "536         637  SAMSUNG Galaxy S23 5G           Cream     256    8      3900   \n",
       "537         638               LAVA Z21            Cyan      32    2      3100   \n",
       "538         639         Tecno Spark 8T  Turquoise Cyan      64    4      5000   \n",
       "539         641  SAMSUNG Galaxy A54 5G    Awesome Lime     128    8      5000   \n",
       "540         642               OPPO A77        Sky Blue     128    4      5000   \n",
       "\n",
       "    Rear Camera Front Camera  AI Lens  Mobile Height  \\\n",
       "536        50MP         12MP        0          15.49   \n",
       "537         5MP          2MP        0          12.70   \n",
       "538        50MP          8MP        0          16.76   \n",
       "539        50MP         32MP        0          16.26   \n",
       "540        50MP          8MP        0          16.66   \n",
       "\n",
       "                      Processor_  Prize  \n",
       "536  Qualcomm Snapdragon 8 Gen 2  79999  \n",
       "537                    Octa Core   5998  \n",
       "538           MediaTek Helio G35   9990  \n",
       "539      Exynos 1380, Octa Core   38999  \n",
       "540           Mediatek Helio G35  15999  "
      ]
     },
     "execution_count": 4,
     "metadata": {},
     "output_type": "execute_result"
    }
   ],
   "source": [
    "data.tail() #Last five Rows"
   ]
  },
  {
   "cell_type": "code",
   "execution_count": 5,
   "id": "b169b6e9",
   "metadata": {},
   "outputs": [
    {
     "data": {
      "text/plain": [
       "(541, 12)"
      ]
     },
     "execution_count": 5,
     "metadata": {},
     "output_type": "execute_result"
    }
   ],
   "source": [
    "data.shape #Numer of rows & Columns"
   ]
  },
  {
   "cell_type": "code",
   "execution_count": 6,
   "id": "dce6648c",
   "metadata": {},
   "outputs": [
    {
     "name": "stdout",
     "output_type": "stream",
     "text": [
      "<class 'pandas.core.frame.DataFrame'>\n",
      "RangeIndex: 541 entries, 0 to 540\n",
      "Data columns (total 12 columns):\n",
      " #   Column         Non-Null Count  Dtype  \n",
      "---  ------         --------------  -----  \n",
      " 0   Unnamed: 0     541 non-null    int64  \n",
      " 1   Model          541 non-null    object \n",
      " 2   Colour         541 non-null    object \n",
      " 3   Memory         541 non-null    int64  \n",
      " 4   RAM            541 non-null    int64  \n",
      " 5   Battery_       541 non-null    int64  \n",
      " 6   Rear Camera    541 non-null    object \n",
      " 7   Front Camera   541 non-null    object \n",
      " 8   AI Lens        541 non-null    int64  \n",
      " 9   Mobile Height  541 non-null    float64\n",
      " 10  Processor_     541 non-null    object \n",
      " 11  Prize          541 non-null    int64  \n",
      "dtypes: float64(1), int64(6), object(5)\n",
      "memory usage: 50.8+ KB\n"
     ]
    }
   ],
   "source": [
    "data.info() #Information"
   ]
  },
  {
   "cell_type": "code",
   "execution_count": 8,
   "id": "47cd5c5c",
   "metadata": {},
   "outputs": [
    {
     "data": {
      "text/plain": [
       "Unnamed: 0         int64\n",
       "Model             object\n",
       "Colour            object\n",
       "Memory             int64\n",
       "RAM                int64\n",
       "Battery_           int64\n",
       "Rear Camera       object\n",
       "Front Camera      object\n",
       "AI Lens            int64\n",
       "Mobile Height    float64\n",
       "Processor_        object\n",
       "Prize              int64\n",
       "dtype: object"
      ]
     },
     "execution_count": 8,
     "metadata": {},
     "output_type": "execute_result"
    }
   ],
   "source": [
    "data.dtypes #Data Types"
   ]
  },
  {
   "cell_type": "code",
   "execution_count": 9,
   "id": "171ce128",
   "metadata": {},
   "outputs": [
    {
     "data": {
      "text/plain": [
       "Unnamed: 0       0\n",
       "Model            0\n",
       "Colour           0\n",
       "Memory           0\n",
       "RAM              0\n",
       "Battery_         0\n",
       "Rear Camera      0\n",
       "Front Camera     0\n",
       "AI Lens          0\n",
       "Mobile Height    0\n",
       "Processor_       0\n",
       "Prize            0\n",
       "dtype: int64"
      ]
     },
     "execution_count": 9,
     "metadata": {},
     "output_type": "execute_result"
    }
   ],
   "source": [
    "data.isnull().sum() #Find Null value"
   ]
  },
  {
   "cell_type": "code",
   "execution_count": 10,
   "id": "87ec1b27",
   "metadata": {},
   "outputs": [
    {
     "data": {
      "text/plain": [
       "2"
      ]
     },
     "execution_count": 10,
     "metadata": {},
     "output_type": "execute_result"
    }
   ],
   "source": [
    "data.ndim #Data Dimention "
   ]
  },
  {
   "cell_type": "code",
   "execution_count": 43,
   "id": "4153acf3",
   "metadata": {},
   "outputs": [
    {
     "name": "stdout",
     "output_type": "stream",
     "text": [
      "Number of duplicated values: 541\n"
     ]
    }
   ],
   "source": [
    "#duplicated vaule count\n",
    "duplicated_value_count = len(data.duplicated())\n",
    "print('Number of duplicated values:', duplicated_value_count)"
   ]
  },
  {
   "cell_type": "code",
   "execution_count": 12,
   "id": "0beabf9a",
   "metadata": {},
   "outputs": [],
   "source": [
    "#drop Unnamed: 0 column as it is not required \n",
    "\n",
    "data.drop(['Unnamed: 0'],axis=1, inplace=True)"
   ]
  },
  {
   "cell_type": "code",
   "execution_count": 13,
   "id": "4b8d6f4f",
   "metadata": {},
   "outputs": [
    {
     "data": {
      "text/html": [
       "<div>\n",
       "<style scoped>\n",
       "    .dataframe tbody tr th:only-of-type {\n",
       "        vertical-align: middle;\n",
       "    }\n",
       "\n",
       "    .dataframe tbody tr th {\n",
       "        vertical-align: top;\n",
       "    }\n",
       "\n",
       "    .dataframe thead th {\n",
       "        text-align: right;\n",
       "    }\n",
       "</style>\n",
       "<table border=\"1\" class=\"dataframe\">\n",
       "  <thead>\n",
       "    <tr style=\"text-align: right;\">\n",
       "      <th></th>\n",
       "      <th>Model</th>\n",
       "      <th>Colour</th>\n",
       "      <th>Memory</th>\n",
       "      <th>RAM</th>\n",
       "      <th>Battery_</th>\n",
       "      <th>Rear Camera</th>\n",
       "      <th>Front Camera</th>\n",
       "      <th>AI Lens</th>\n",
       "      <th>Mobile Height</th>\n",
       "      <th>Processor_</th>\n",
       "      <th>Prize</th>\n",
       "    </tr>\n",
       "  </thead>\n",
       "  <tbody>\n",
       "    <tr>\n",
       "      <th>0</th>\n",
       "      <td>Infinix SMART 7</td>\n",
       "      <td>Night Black</td>\n",
       "      <td>64</td>\n",
       "      <td>4</td>\n",
       "      <td>6000</td>\n",
       "      <td>13MP</td>\n",
       "      <td>5MP</td>\n",
       "      <td>1</td>\n",
       "      <td>16.76</td>\n",
       "      <td>Unisoc Spreadtrum SC9863A1</td>\n",
       "      <td>7299</td>\n",
       "    </tr>\n",
       "    <tr>\n",
       "      <th>1</th>\n",
       "      <td>Infinix SMART 7</td>\n",
       "      <td>Azure Blue</td>\n",
       "      <td>64</td>\n",
       "      <td>4</td>\n",
       "      <td>6000</td>\n",
       "      <td>13MP</td>\n",
       "      <td>5MP</td>\n",
       "      <td>1</td>\n",
       "      <td>16.76</td>\n",
       "      <td>Unisoc Spreadtrum SC9863A1</td>\n",
       "      <td>7299</td>\n",
       "    </tr>\n",
       "    <tr>\n",
       "      <th>2</th>\n",
       "      <td>MOTOROLA G32</td>\n",
       "      <td>Mineral Gray</td>\n",
       "      <td>128</td>\n",
       "      <td>8</td>\n",
       "      <td>5000</td>\n",
       "      <td>50MP</td>\n",
       "      <td>16MP</td>\n",
       "      <td>0</td>\n",
       "      <td>16.64</td>\n",
       "      <td>Qualcomm Snapdragon 680</td>\n",
       "      <td>11999</td>\n",
       "    </tr>\n",
       "    <tr>\n",
       "      <th>3</th>\n",
       "      <td>POCO C50</td>\n",
       "      <td>Royal Blue</td>\n",
       "      <td>32</td>\n",
       "      <td>2</td>\n",
       "      <td>5000</td>\n",
       "      <td>8MP</td>\n",
       "      <td>5MP</td>\n",
       "      <td>0</td>\n",
       "      <td>16.56</td>\n",
       "      <td>Mediatek Helio A22</td>\n",
       "      <td>5649</td>\n",
       "    </tr>\n",
       "    <tr>\n",
       "      <th>4</th>\n",
       "      <td>Infinix HOT 30i</td>\n",
       "      <td>Marigold</td>\n",
       "      <td>128</td>\n",
       "      <td>8</td>\n",
       "      <td>5000</td>\n",
       "      <td>50MP</td>\n",
       "      <td>5MP</td>\n",
       "      <td>1</td>\n",
       "      <td>16.76</td>\n",
       "      <td>G37</td>\n",
       "      <td>8999</td>\n",
       "    </tr>\n",
       "    <tr>\n",
       "      <th>...</th>\n",
       "      <td>...</td>\n",
       "      <td>...</td>\n",
       "      <td>...</td>\n",
       "      <td>...</td>\n",
       "      <td>...</td>\n",
       "      <td>...</td>\n",
       "      <td>...</td>\n",
       "      <td>...</td>\n",
       "      <td>...</td>\n",
       "      <td>...</td>\n",
       "      <td>...</td>\n",
       "    </tr>\n",
       "    <tr>\n",
       "      <th>536</th>\n",
       "      <td>SAMSUNG Galaxy S23 5G</td>\n",
       "      <td>Cream</td>\n",
       "      <td>256</td>\n",
       "      <td>8</td>\n",
       "      <td>3900</td>\n",
       "      <td>50MP</td>\n",
       "      <td>12MP</td>\n",
       "      <td>0</td>\n",
       "      <td>15.49</td>\n",
       "      <td>Qualcomm Snapdragon 8 Gen 2</td>\n",
       "      <td>79999</td>\n",
       "    </tr>\n",
       "    <tr>\n",
       "      <th>537</th>\n",
       "      <td>LAVA Z21</td>\n",
       "      <td>Cyan</td>\n",
       "      <td>32</td>\n",
       "      <td>2</td>\n",
       "      <td>3100</td>\n",
       "      <td>5MP</td>\n",
       "      <td>2MP</td>\n",
       "      <td>0</td>\n",
       "      <td>12.70</td>\n",
       "      <td>Octa Core</td>\n",
       "      <td>5998</td>\n",
       "    </tr>\n",
       "    <tr>\n",
       "      <th>538</th>\n",
       "      <td>Tecno Spark 8T</td>\n",
       "      <td>Turquoise Cyan</td>\n",
       "      <td>64</td>\n",
       "      <td>4</td>\n",
       "      <td>5000</td>\n",
       "      <td>50MP</td>\n",
       "      <td>8MP</td>\n",
       "      <td>0</td>\n",
       "      <td>16.76</td>\n",
       "      <td>MediaTek Helio G35</td>\n",
       "      <td>9990</td>\n",
       "    </tr>\n",
       "    <tr>\n",
       "      <th>539</th>\n",
       "      <td>SAMSUNG Galaxy A54 5G</td>\n",
       "      <td>Awesome Lime</td>\n",
       "      <td>128</td>\n",
       "      <td>8</td>\n",
       "      <td>5000</td>\n",
       "      <td>50MP</td>\n",
       "      <td>32MP</td>\n",
       "      <td>0</td>\n",
       "      <td>16.26</td>\n",
       "      <td>Exynos 1380, Octa Core</td>\n",
       "      <td>38999</td>\n",
       "    </tr>\n",
       "    <tr>\n",
       "      <th>540</th>\n",
       "      <td>OPPO A77</td>\n",
       "      <td>Sky Blue</td>\n",
       "      <td>128</td>\n",
       "      <td>4</td>\n",
       "      <td>5000</td>\n",
       "      <td>50MP</td>\n",
       "      <td>8MP</td>\n",
       "      <td>0</td>\n",
       "      <td>16.66</td>\n",
       "      <td>Mediatek Helio G35</td>\n",
       "      <td>15999</td>\n",
       "    </tr>\n",
       "  </tbody>\n",
       "</table>\n",
       "<p>541 rows × 11 columns</p>\n",
       "</div>"
      ],
      "text/plain": [
       "                     Model          Colour  Memory  RAM  Battery_ Rear Camera  \\\n",
       "0          Infinix SMART 7     Night Black      64    4      6000        13MP   \n",
       "1          Infinix SMART 7      Azure Blue      64    4      6000        13MP   \n",
       "2             MOTOROLA G32    Mineral Gray     128    8      5000        50MP   \n",
       "3                 POCO C50      Royal Blue      32    2      5000         8MP   \n",
       "4          Infinix HOT 30i        Marigold     128    8      5000        50MP   \n",
       "..                     ...             ...     ...  ...       ...         ...   \n",
       "536  SAMSUNG Galaxy S23 5G           Cream     256    8      3900        50MP   \n",
       "537               LAVA Z21            Cyan      32    2      3100         5MP   \n",
       "538         Tecno Spark 8T  Turquoise Cyan      64    4      5000        50MP   \n",
       "539  SAMSUNG Galaxy A54 5G    Awesome Lime     128    8      5000        50MP   \n",
       "540               OPPO A77        Sky Blue     128    4      5000        50MP   \n",
       "\n",
       "    Front Camera  AI Lens  Mobile Height                   Processor_  Prize  \n",
       "0            5MP        1          16.76   Unisoc Spreadtrum SC9863A1   7299  \n",
       "1            5MP        1          16.76   Unisoc Spreadtrum SC9863A1   7299  \n",
       "2           16MP        0          16.64      Qualcomm Snapdragon 680  11999  \n",
       "3            5MP        0          16.56           Mediatek Helio A22   5649  \n",
       "4            5MP        1          16.76                          G37   8999  \n",
       "..           ...      ...            ...                          ...    ...  \n",
       "536         12MP        0          15.49  Qualcomm Snapdragon 8 Gen 2  79999  \n",
       "537          2MP        0          12.70                    Octa Core   5998  \n",
       "538          8MP        0          16.76           MediaTek Helio G35   9990  \n",
       "539         32MP        0          16.26      Exynos 1380, Octa Core   38999  \n",
       "540          8MP        0          16.66           Mediatek Helio G35  15999  \n",
       "\n",
       "[541 rows x 11 columns]"
      ]
     },
     "execution_count": 13,
     "metadata": {},
     "output_type": "execute_result"
    }
   ],
   "source": [
    "data"
   ]
  },
  {
   "cell_type": "code",
   "execution_count": 45,
   "id": "a35004f7",
   "metadata": {},
   "outputs": [
    {
     "data": {
      "text/plain": [
       "<Axes: >"
      ]
     },
     "execution_count": 45,
     "metadata": {},
     "output_type": "execute_result"
    },
    {
     "data": {
      "image/png": "[encoded data removed]",
      "text/plain": [
       "<Figure size 640x480 with 2 Axes>"
      ]
     },
     "metadata": {},
     "output_type": "display_data"
    }
   ],
   "source": [
    "#visualizing the Missing Values\n",
    "sns.heatmap(data.isnull(), cmap='viridis', cbar=True)"
   ]
  },
  {
   "cell_type": "markdown",
   "id": "c4b78647",
   "metadata": {},
   "source": [
    "we can see that in above hitmap, there is no yellow line, which means that there is no null values"
   ]
  },
  {
   "cell_type": "markdown",
   "id": "0ceccc31",
   "metadata": {},
   "source": [
    "Understanding Variables"
   ]
  },
  {
   "cell_type": "code",
   "execution_count": 46,
   "id": "6028f16a",
   "metadata": {},
   "outputs": [
    {
     "data": {
      "text/plain": [
       "Index(['Model', 'Colour', 'Memory', 'RAM', 'Battery_', 'Rear Camera',\n",
       "       'Front Camera', 'AI Lens', 'Mobile Height', 'Processor_', 'Prize'],\n",
       "      dtype='object')"
      ]
     },
     "execution_count": 46,
     "metadata": {},
     "output_type": "execute_result"
    }
   ],
   "source": [
    "data.columns  #columns"
   ]
  },
  {
   "cell_type": "code",
   "execution_count": 60,
   "id": "43c8e4b5",
   "metadata": {},
   "outputs": [
    {
     "data": {
      "text/plain": [
       "11"
      ]
     },
     "execution_count": 60,
     "metadata": {},
     "output_type": "execute_result"
    }
   ],
   "source": [
    "len(data.columns)"
   ]
  },
  {
   "cell_type": "code",
   "execution_count": 47,
   "id": "6f10b94e",
   "metadata": {},
   "outputs": [
    {
     "data": {
      "text/html": [
       "<div>\n",
       "<style scoped>\n",
       "    .dataframe tbody tr th:only-of-type {\n",
       "        vertical-align: middle;\n",
       "    }\n",
       "\n",
       "    .dataframe tbody tr th {\n",
       "        vertical-align: top;\n",
       "    }\n",
       "\n",
       "    .dataframe thead th {\n",
       "        text-align: right;\n",
       "    }\n",
       "</style>\n",
       "<table border=\"1\" class=\"dataframe\">\n",
       "  <thead>\n",
       "    <tr style=\"text-align: right;\">\n",
       "      <th></th>\n",
       "      <th>Model</th>\n",
       "      <th>Colour</th>\n",
       "      <th>Memory</th>\n",
       "      <th>RAM</th>\n",
       "      <th>Battery_</th>\n",
       "      <th>AI Lens</th>\n",
       "      <th>Mobile Height</th>\n",
       "      <th>Processor_</th>\n",
       "      <th>Prize</th>\n",
       "    </tr>\n",
       "  </thead>\n",
       "  <tbody>\n",
       "    <tr>\n",
       "      <th>count</th>\n",
       "      <td>541.000000</td>\n",
       "      <td>541.000000</td>\n",
       "      <td>541.000000</td>\n",
       "      <td>541.000000</td>\n",
       "      <td>541.000000</td>\n",
       "      <td>541.000000</td>\n",
       "      <td>541.000000</td>\n",
       "      <td>541.000000</td>\n",
       "      <td>541.000000</td>\n",
       "    </tr>\n",
       "    <tr>\n",
       "      <th>mean</th>\n",
       "      <td>96.776340</td>\n",
       "      <td>134.199630</td>\n",
       "      <td>110.550832</td>\n",
       "      <td>5.397412</td>\n",
       "      <td>4871.587800</td>\n",
       "      <td>0.062847</td>\n",
       "      <td>16.431201</td>\n",
       "      <td>61.528651</td>\n",
       "      <td>16228.375231</td>\n",
       "    </tr>\n",
       "    <tr>\n",
       "      <th>std</th>\n",
       "      <td>52.615586</td>\n",
       "      <td>78.929955</td>\n",
       "      <td>60.600694</td>\n",
       "      <td>1.984923</td>\n",
       "      <td>780.148862</td>\n",
       "      <td>0.242911</td>\n",
       "      <td>2.523553</td>\n",
       "      <td>32.456318</td>\n",
       "      <td>10793.588322</td>\n",
       "    </tr>\n",
       "    <tr>\n",
       "      <th>min</th>\n",
       "      <td>0.000000</td>\n",
       "      <td>0.000000</td>\n",
       "      <td>16.000000</td>\n",
       "      <td>2.000000</td>\n",
       "      <td>800.000000</td>\n",
       "      <td>0.000000</td>\n",
       "      <td>4.500000</td>\n",
       "      <td>0.000000</td>\n",
       "      <td>920.000000</td>\n",
       "    </tr>\n",
       "    <tr>\n",
       "      <th>25%</th>\n",
       "      <td>54.000000</td>\n",
       "      <td>66.000000</td>\n",
       "      <td>64.000000</td>\n",
       "      <td>4.000000</td>\n",
       "      <td>5000.000000</td>\n",
       "      <td>0.000000</td>\n",
       "      <td>16.510000</td>\n",
       "      <td>40.000000</td>\n",
       "      <td>9290.000000</td>\n",
       "    </tr>\n",
       "    <tr>\n",
       "      <th>50%</th>\n",
       "      <td>98.000000</td>\n",
       "      <td>132.000000</td>\n",
       "      <td>128.000000</td>\n",
       "      <td>6.000000</td>\n",
       "      <td>5000.000000</td>\n",
       "      <td>0.000000</td>\n",
       "      <td>16.710000</td>\n",
       "      <td>59.000000</td>\n",
       "      <td>13499.000000</td>\n",
       "    </tr>\n",
       "    <tr>\n",
       "      <th>75%</th>\n",
       "      <td>143.000000</td>\n",
       "      <td>199.000000</td>\n",
       "      <td>128.000000</td>\n",
       "      <td>8.000000</td>\n",
       "      <td>5000.000000</td>\n",
       "      <td>0.000000</td>\n",
       "      <td>16.940000</td>\n",
       "      <td>83.000000</td>\n",
       "      <td>19280.000000</td>\n",
       "    </tr>\n",
       "    <tr>\n",
       "      <th>max</th>\n",
       "      <td>186.000000</td>\n",
       "      <td>274.000000</td>\n",
       "      <td>256.000000</td>\n",
       "      <td>8.000000</td>\n",
       "      <td>7000.000000</td>\n",
       "      <td>1.000000</td>\n",
       "      <td>41.940000</td>\n",
       "      <td>122.000000</td>\n",
       "      <td>80999.000000</td>\n",
       "    </tr>\n",
       "  </tbody>\n",
       "</table>\n",
       "</div>"
      ],
      "text/plain": [
       "            Model      Colour      Memory         RAM     Battery_  \\\n",
       "count  541.000000  541.000000  541.000000  541.000000   541.000000   \n",
       "mean    96.776340  134.199630  110.550832    5.397412  4871.587800   \n",
       "std     52.615586   78.929955   60.600694    1.984923   780.148862   \n",
       "min      0.000000    0.000000   16.000000    2.000000   800.000000   \n",
       "25%     54.000000   66.000000   64.000000    4.000000  5000.000000   \n",
       "50%     98.000000  132.000000  128.000000    6.000000  5000.000000   \n",
       "75%    143.000000  199.000000  128.000000    8.000000  5000.000000   \n",
       "max    186.000000  274.000000  256.000000    8.000000  7000.000000   \n",
       "\n",
       "          AI Lens  Mobile Height  Processor_         Prize  \n",
       "count  541.000000     541.000000  541.000000    541.000000  \n",
       "mean     0.062847      16.431201   61.528651  16228.375231  \n",
       "std      0.242911       2.523553   32.456318  10793.588322  \n",
       "min      0.000000       4.500000    0.000000    920.000000  \n",
       "25%      0.000000      16.510000   40.000000   9290.000000  \n",
       "50%      0.000000      16.710000   59.000000  13499.000000  \n",
       "75%      0.000000      16.940000   83.000000  19280.000000  \n",
       "max      1.000000      41.940000  122.000000  80999.000000  "
      ]
     },
     "execution_count": 47,
     "metadata": {},
     "output_type": "execute_result"
    }
   ],
   "source": [
    "data.describe() #Discribe/Summary"
   ]
  },
  {
   "cell_type": "markdown",
   "id": "77bb99a9",
   "metadata": {},
   "source": [
    "Check Unique values variable"
   ]
  },
  {
   "cell_type": "code",
   "execution_count": 66,
   "id": "06b9ff8a",
   "metadata": {},
   "outputs": [
    {
     "data": {
      "text/plain": [
       "Model            187\n",
       "Colour           275\n",
       "Memory             5\n",
       "RAM                5\n",
       "Battery_          37\n",
       "Rear Camera       14\n",
       "Front Camera      13\n",
       "AI Lens            2\n",
       "Mobile Height     38\n",
       "Processor_       123\n",
       "Prize            158\n",
       "dtype: int64"
      ]
     },
     "execution_count": 66,
     "metadata": {},
     "output_type": "execute_result"
    }
   ],
   "source": [
    "data.nunique()"
   ]
  },
  {
   "cell_type": "markdown",
   "id": "f6d1d80f",
   "metadata": {},
   "source": [
    "Data Wrangling Code"
   ]
  },
  {
   "cell_type": "code",
   "execution_count": null,
   "id": "d5d25003",
   "metadata": {},
   "outputs": [],
   "source": [
    "#Write your code to take your datase analysis rady\n",
    "\n",
    "#The minimum value of "
   ]
  },
  {
   "cell_type": "markdown",
   "id": "5cf065ed",
   "metadata": {},
   "source": [
    "# Feature Engineering"
   ]
  },
  {
   "cell_type": "markdown",
   "id": "40106ae0",
   "metadata": {},
   "source": [
    "separating numerical and object columns"
   ]
  },
  {
   "cell_type": "code",
   "execution_count": 30,
   "id": "0af7c073",
   "metadata": {},
   "outputs": [],
   "source": [
    "numerical_columns = data.select_dtypes(include=['float','int']).columns"
   ]
  },
  {
   "cell_type": "code",
   "execution_count": 25,
   "id": "36e04e77",
   "metadata": {},
   "outputs": [],
   "source": [
    "categorical_columns = data.select_dtypes(include='object').columns"
   ]
  },
  {
   "cell_type": "markdown",
   "id": "60c7be4b",
   "metadata": {},
   "source": [
    "Filling missing values of numerical columns with mean of the respective column"
   ]
  },
  {
   "cell_type": "code",
   "execution_count": 28,
   "id": "fab8424d",
   "metadata": {},
   "outputs": [],
   "source": [
    "data[numerical_columns] = data[numerical_columns].fillna(data[numerical_columns].mean())"
   ]
  },
  {
   "cell_type": "markdown",
   "id": "5d140fba",
   "metadata": {},
   "source": [
    "Filling missing values of object columns with mode of the respective column"
   ]
  },
  {
   "cell_type": "code",
   "execution_count": 31,
   "id": "f7adf9d2",
   "metadata": {},
   "outputs": [],
   "source": [
    "data[categorical_columns] = data[categorical_columns].fillna(data[categorical_columns].mode().iloc[0])"
   ]
  },
  {
   "cell_type": "code",
   "execution_count": 33,
   "id": "c8749a26",
   "metadata": {},
   "outputs": [
    {
     "data": {
      "text/plain": [
       "Model            0\n",
       "Colour           0\n",
       "Memory           0\n",
       "RAM              0\n",
       "Battery_         0\n",
       "Rear Camera      0\n",
       "Front Camera     0\n",
       "AI Lens          0\n",
       "Mobile Height    0\n",
       "Processor_       0\n",
       "Prize            0\n",
       "dtype: int64"
      ]
     },
     "execution_count": 33,
     "metadata": {},
     "output_type": "execute_result"
    }
   ],
   "source": [
    "data.isnull().sum()"
   ]
  },
  {
   "cell_type": "markdown",
   "id": "da3cd68e",
   "metadata": {},
   "source": [
    "# Applying Ordinal Encoding to the columns whose variables are in order"
   ]
  },
  {
   "cell_type": "code",
   "execution_count": 34,
   "id": "160cbe35",
   "metadata": {},
   "outputs": [],
   "source": [
    "from sklearn.preprocessing import OrdinalEncoder"
   ]
  },
  {
   "cell_type": "code",
   "execution_count": 35,
   "id": "de0ca8e5",
   "metadata": {},
   "outputs": [],
   "source": [
    "#data[categorical_columns]"
   ]
  },
  {
   "cell_type": "code",
   "execution_count": 36,
   "id": "6941acde",
   "metadata": {},
   "outputs": [],
   "source": [
    "ordinal_columns = ['Model','Colour','Processor_']"
   ]
  },
  {
   "cell_type": "code",
   "execution_count": 37,
   "id": "be051901",
   "metadata": {},
   "outputs": [],
   "source": [
    "encoder = OrdinalEncoder()"
   ]
  },
  {
   "cell_type": "code",
   "execution_count": 38,
   "id": "5de47986",
   "metadata": {},
   "outputs": [],
   "source": [
    "data[ordinal_columns] = encoder.fit_transform(data[ordinal_columns])"
   ]
  },
  {
   "cell_type": "code",
   "execution_count": 39,
   "id": "48be321e",
   "metadata": {},
   "outputs": [],
   "source": [
    "#data[categorical_columns]"
   ]
  },
  {
   "cell_type": "markdown",
   "id": "8e6a20c5",
   "metadata": {},
   "source": [
    "# Applying Label Encoding to the columns whose variables are not in order"
   ]
  },
  {
   "cell_type": "markdown",
   "id": "84a99a09",
   "metadata": {},
   "source": [
    "We ll apply Label Encoding instead of Nominal Encoding because Nominal encoding will create new binary columns for each category in the specified columns"
   ]
  },
  {
   "cell_type": "code",
   "execution_count": 41,
   "id": "9446f404",
   "metadata": {},
   "outputs": [],
   "source": [
    "from sklearn.preprocessing import LabelEncoder"
   ]
  },
  {
   "cell_type": "code",
   "execution_count": null,
   "id": "b20f781b",
   "metadata": {},
   "outputs": [],
   "source": []
  }
 ],
 "metadata": {
  "kernelspec": {
   "display_name": "Python 3 (ipykernel)",
   "language": "python",
   "name": "python3"
  },
  "language_info": {
   "codemirror_mode": {
    "name": "ipython",
    "version": 3
   },
   "file_extension": ".py",
   "mimetype": "text/x-python",
   "name": "python",
   "nbconvert_exporter": "python",
   "pygments_lexer": "ipython3",
   "version": "3.10.9"
  }
 },
 "nbformat": 4,
 "nbformat_minor": 5
}
